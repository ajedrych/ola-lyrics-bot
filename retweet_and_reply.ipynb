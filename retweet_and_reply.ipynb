{
 "cells": [
  {
   "cell_type": "markdown",
   "metadata": {},
   "source": [
    "## ola lyrics bot\n",
    "#### Retweet quote tweets and reply on mention\n",
    "Connect to Spotify and Genius to post lyrics on [Twitter](https://twitter.com/olalyricsbot)"
   ]
  },
  {
   "cell_type": "code",
   "execution_count": 26,
   "metadata": {},
   "outputs": [],
   "source": [
    "import spotipy\n",
    "import spotipy.oauth2 as oauth2\n",
    "from spotipy.oauth2 import SpotifyOAuth\n",
    "from spotipy.oauth2 import SpotifyClientCredentials\n",
    "import lyricsgenius\n",
    "import tweepy\n",
    "\n",
    "import random\n",
    "import os\n",
    "from dotenv import load_dotenv"
   ]
  },
  {
   "cell_type": "markdown",
   "metadata": {},
   "source": [
    "#### Spotify API Authorization"
   ]
  },
  {
   "cell_type": "code",
   "execution_count": 27,
   "metadata": {},
   "outputs": [],
   "source": [
    "load_dotenv()\n",
    "\n",
    "auth_manager = SpotifyClientCredentials(client_id=os.getenv(\"SPOTIPY_CLIENT_ID\"), client_secret=os.getenv(\"SPOTIPY_CLIENT_SECRET\"))\n",
    "sp = spotipy.Spotify(auth_manager=auth_manager)\n",
    "\n",
    "USERNAME = 'aleksandra.jedrych'\n",
    "PLAYLIST_ID = '2VQxlEsq39DGjFxJ0o5nMo'"
   ]
  },
  {
   "cell_type": "markdown",
   "metadata": {},
   "source": [
    "Download song ids from a dedicated playlist"
   ]
  },
  {
   "cell_type": "code",
   "execution_count": 28,
   "metadata": {},
   "outputs": [
    {
     "name": "stdout",
     "output_type": "stream",
     "text": [
      "['37ZJ0p5Jm13JPevGcx4SkF', '0GONea6G2XdnHWjNZd6zt3', '6Qyc6fS4DsZjB2mRW9DsQs', '7Ewz6bJ97vUqk5HdkvguFQ', '5t5rCnsgRBtcKqTB7SbD1Q', '3ovjw5HZZv43SxTwApooCM', '1pTGc8pwyo6xtgXBKCBcFn', '77NNZQSqzLNqh2A9JhLRkg', '5kK1Iru9ogP3Iy1zsANU1n', '5B8N5rPOmTVVGpuBMK2Vby', '60wwxj6Dd9NJlirf84wr2c', '390AWnOn2rfe9FzQjYmxIH', '6noSuYjYAXxM91DEaTAaFy', '2a3U3GTCvrcma7wetBtOpi', '1uzWOoJdADfstQuFtQFTUn', '3MrWxJaD2AT0W9DjWF64Vm', '7fpBtc7p3hFrEbDVc32ltY', '3EPXxR3ImUwfayaurPi3cm', '6N22FZs2ZhPBYi3b9XPajV', '6c9nkeetGbsoXa7d5E1wHa', '2EiGECydkS2M8OCcRHQZhT', '0eZBeB2xFIS65jQHerispi', '54b8qPFqYqIndfdxiLApea', '1PZDyestTVydtHpaIcfUJg', '7lPN2DXiMsVn7XUKtOW1CS', '4uGIJG1jYFonGc4LGp5uQL', '4vpeKl0vMGdAXpZiQB2Dtd', '39q7xibBdRboeMKUbZEB6g', '6xB7E0HOWznwiO0v56mqwD', '2qhASBzpbFhPRtrnZ5lLnz', '1zf8Xmj66XRiI6Etw2Ddu7', '0GD6Ug6ouPqkthlnT058aC', '6fqLce5TNAmNgbFwXD2DdG', '0I3cUqffwmH2mMUHIfpC0l', '5XcZRgJv3zMhTqCyESjQrF', '0bLRXQaWzmSXRXPmP6JnEF', '5lRzWDEe7UuedU2QPsFg0K', '0ow5yxh0ouMJ0om8EyEt8P', '6EkQmHBoux7iqK4vjfHq4V', '3HNTLCpAGnizbyJmk7466r', '1jbnDCA8DHKCoCRLqtoc3d', '0wzABO1igQsSy8cQ7dIeHK', '5tewIdMVsaJWN19ZnmnPNN', '5Ee3eEEutXbUsMYGD2rbTT', '1cApo5IeHOea0dD3Cs3QMB', '7bOYOD0d7ByMTXvJnQVl8d', '4DMKwE2E2iYDKY01C335Uw', '0YoAVHXeEPPzZxK0xPQqYn', '5JQaG1VrTu4fbieUsDUdrt', '4qO03RMQm88DdpTJcxlglY', '2BK4Vuf2WpjgiKMtLMb4U7', '3uUuGVFu1V7jTQL60S1r8z', '1Hq0iDb1rLvsGSI2cKcRNu', '3kme5Qos8h04yrKxsgur79', '0oUbxgJDJKwmfVYUsn4Qkk', '7oHymG8r14Iv9zn5hFTNax', '5xQkkHYbgJ2VegCrRUCvcS', '3iMLRCGHLQ135LtMjKLkO8', '2TeLIzFBe3hxkPR5FIQZut', '3ddxe0WYUpNPtSnHgQOad5', '4HbeGjbt7u3pvwDk1vN7P0', '2AHnmlkyZbnxqSA66B7jK3', '5g3ZD7PmrEQlQZKDW91yGG', '0vWUhCPxpJOJR5urYbZypB', '3YRCqOhFifThpSRFJ1VWFM', '0gplL1WMoJ6iYaPgMCL0gX', '1mXVgsBdtIVeCLJnSnmtdV', '64GRDrL1efgXclrhVCeuA0', '1CRtJS94Hq3PbBZT9LuF90', '40IHflbrHcOuC8ZcYxUSAC', '0iVXKGnD23wIulXZRit20N', '07q0QVgO56EorrSGHC48y3', '3mCeeoBvTTpg8Xy2Wuvirw', '0RdUX4WE0fO30VnlUbDVL6', '1znPMY3zq78mVuTAmOA9O7', '68G4daLishzu61bgUjk7IT', '4JBNKQg27FoumUSo96r2pk', '3JvKfv6T31zO0ini8iNItO', '7yq4Qj7cqayVTp3FF9CWbm', '44AyOl4qVkzS48vBsbNXaC', '2PwXOevGUSkU8qaYZjgLq2', '37Q5anxoGWYdRsyeXkkNoI', '21IhKvPNPb2VkTACCpAD4j', '6epXs8efGlsdbMIfX8Olra', '6zarrzp1jfmjAI2ASMJwug', '4KPNijGmawDWXPET92mXWp', '7nVDEJhjyrgngD1DQ0dy8J', '1z3ugFmUKoCzGsI6jdY4Ci', '2WfaOiMkCvy7F5fcp2zZ8L', '4ByEFOBuLXpCqvO1kw8Wdm', '07ABETRdek3ACMpRPvQuaT', '1F43XlPBiwAUUIhrUGzylO', '2374M0fQpWi3dLnB54qaLX', '78TnMTAFmWUWWCgNXR7D3K', '3X7uFMzJrEE0sxn62qd8Ch', '3MrRksHupTVEQ7YbA0FsZK', '2TxCwUlqaOH3TIyJqGgR91', '22sLuJYcvZOSoLLRYev1s5', '1ZPlNanZsJSPK5h9YZZFbZ']\n"
     ]
    }
   ],
   "source": [
    "def download_song_ids(username, playlist_id):\n",
    "    song_ids = []\n",
    "    playlist = sp.user_playlist(username, playlist_id)\n",
    "    for item in playlist['tracks']['items']:\n",
    "        song = item['track']\n",
    "        song_ids.append(song['id'])\n",
    "    return song_ids\n",
    "\n",
    "songs_ids = download_song_ids(USERNAME, PLAYLIST_ID)\n",
    "print(songs_ids)\n"
   ]
  },
  {
   "cell_type": "markdown",
   "metadata": {},
   "source": [
    "Collect data (title and main artist) needed to search forlyrics via the Genius API"
   ]
  },
  {
   "cell_type": "code",
   "execution_count": 29,
   "metadata": {},
   "outputs": [],
   "source": [
    "def artist_genius(id):\n",
    "    song_info = sp.track(id)\n",
    "    artist = song_info['album']['artists'][0]['name'] #for genius (searching lyrics for tweet using title and main artist)\n",
    "    return artist"
   ]
  },
  {
   "cell_type": "code",
   "execution_count": 30,
   "metadata": {},
   "outputs": [],
   "source": [
    "def title(id):\n",
    "    song_info = sp.track(id)\n",
    "    title = song_info['name']\n",
    "    return title"
   ]
  },
  {
   "cell_type": "markdown",
   "metadata": {},
   "source": [
    "Collect information about all authors to include in a tweet"
   ]
  },
  {
   "cell_type": "code",
   "execution_count": 31,
   "metadata": {},
   "outputs": [],
   "source": [
    "def artists(id):\n",
    "    song_info = sp.track(id)\n",
    "    lista = []\n",
    "    for i in range(0, len(song_info['album']['artists'])):\n",
    "        lista.append(song_info['album']['artists'][i]['name']) #for tweet (including all artists performing the track)\n",
    "    str_artists = \", \"\n",
    "    return(str_artists.join(lista))\n"
   ]
  },
  {
   "cell_type": "code",
   "execution_count": 32,
   "metadata": {},
   "outputs": [],
   "source": [
    "#print(artist_genius(id), title(id), artists(id))"
   ]
  },
  {
   "cell_type": "markdown",
   "metadata": {},
   "source": [
    "#### Connect to Genius API to download lyrics"
   ]
  },
  {
   "cell_type": "code",
   "execution_count": 33,
   "metadata": {},
   "outputs": [],
   "source": [
    "genius = lyricsgenius.Genius(os.getenv(\"GENIUS_CLIENT_ID\"))\n",
    "genius.remove_section_headers = True"
   ]
  },
  {
   "cell_type": "markdown",
   "metadata": {},
   "source": [
    "Download song lyrics"
   ]
  },
  {
   "cell_type": "code",
   "execution_count": 34,
   "metadata": {},
   "outputs": [],
   "source": [
    "def raw_lyrics():\n",
    "    lyrics = genius.search_song(title(id), artist_genius(id)).lyrics\n",
    "    return lyrics"
   ]
  },
  {
   "cell_type": "markdown",
   "metadata": {},
   "source": [
    "Create content of the tweet"
   ]
  },
  {
   "cell_type": "code",
   "execution_count": 35,
   "metadata": {},
   "outputs": [],
   "source": [
    "def tweet_content(lyrics):\n",
    "    lyrics = lyrics.split('\\n')\n",
    "    for index in range(len(lyrics)):\n",
    "        if lyrics[index] == \"\" or \"[\" in lyrics[index]:\n",
    "            lyrics[index] = \"XXX\"\n",
    "    lyrics = [i for i in lyrics if i != \"XXX\"]\n",
    "\n",
    "    random_num = random.randrange(0, len(lyrics)-1)\n",
    "    tweet = lyrics[random_num] + \"\\n\" + lyrics[random_num+1] + \"\\n\" + \"\\n\" + title(id) + \" by \" + artists(id)\n",
    "    tweet = tweet.replace(\"\\\\\", \"\")\n",
    "    return tweet"
   ]
  },
  {
   "cell_type": "markdown",
   "metadata": {},
   "source": [
    "#### Connect to Twitter API to post lyrics"
   ]
  },
  {
   "cell_type": "code",
   "execution_count": 36,
   "metadata": {},
   "outputs": [],
   "source": [
    "import functions \n",
    "\n",
    "api = tweepy.Client(bearer_token=os.getenv(\"BEARER_TOKEN\"), consumer_key= os.getenv(\"CONSUMER_KEY\"), consumer_secret=os.getenv(\"CONSUMER_SECRET\"), access_token=os.getenv(\"ACCESS_TOKEN\"), access_token_secret=os.getenv(\"ACCESS_TOKEN_SECRET\") )\n",
    "\n",
    "QUERY = \"olalyricsbot\"\n",
    "MAX_RESULTS = 10"
   ]
  },
  {
   "cell_type": "markdown",
   "metadata": {},
   "source": [
    "Draw of a song id"
   ]
  },
  {
   "cell_type": "code",
   "execution_count": 37,
   "metadata": {},
   "outputs": [
    {
     "name": "stdout",
     "output_type": "stream",
     "text": [
      "6Qyc6fS4DsZjB2mRW9DsQs\n"
     ]
    }
   ],
   "source": [
    "id = songs_ids[random.randrange(len(songs_ids))]\n",
    "print(id)"
   ]
  },
  {
   "cell_type": "markdown",
   "metadata": {},
   "source": [
    "Check if whether a tweet (id) has already received a reply"
   ]
  },
  {
   "cell_type": "code",
   "execution_count": 38,
   "metadata": {},
   "outputs": [],
   "source": [
    "def check(id):\n",
    "    with open('last_tweet_ids.txt') as f:\n",
    "        datafile = f.readlines()\n",
    "    for line in datafile:\n",
    "        if id in line:\n",
    "            return True\n",
    "    return False"
   ]
  },
  {
   "cell_type": "markdown",
   "metadata": {},
   "source": [
    "Add tweet (id) to database = text file\n"
   ]
  },
  {
   "cell_type": "code",
   "execution_count": 66,
   "metadata": {},
   "outputs": [],
   "source": [
    "def append_new_id(text_to_append):\n",
    "    with open('last_tweet_ids.txt', \"a+\") as file_object:\n",
    "        file_object.seek(0)\n",
    "        data = file_object.read(100)\n",
    "        if len(data) > 0:\n",
    "            file_object.write(\"\\n\")\n",
    "        file_object.write(text_to_append)"
   ]
  },
  {
   "cell_type": "code",
   "execution_count": 63,
   "metadata": {},
   "outputs": [
    {
     "data": {
      "text/plain": [
       "[{'id': 1475047635287519232,\n",
       "  'username': 'howareyouscully',\n",
       "  'text': '@olalyricsbot ola draw lyrics test 1115'},\n",
       " {'id': 1474874021682495489,\n",
       "  'username': 'olalyricsbot',\n",
       "  'text': 'RT @langerspearl: najpiękniejsza piosenka o miłości'},\n",
       " {'id': 1474864114434551810,\n",
       "  'username': 'olalyricsbot',\n",
       "  'text': \"RT @langerspearl: don't want to touch you but you're under my skin (deep in) https://t.co/98Gry9ESDJ\"},\n",
       " {'id': 1474850453284429824,\n",
       "  'username': 'langerspearl',\n",
       "  'text': \"don't want to touch you but you're under my skin (deep in) https://t.co/98Gry9ESDJ\"},\n",
       " {'id': 1474801365247537168,\n",
       "  'username': 'olalyricsbot',\n",
       "  'text': 'RT @langerspearl: teraźniejsze piosenki już nie mają takiego klimatu...'},\n",
       " {'id': 1474784541571227650,\n",
       "  'username': 'langerspearl',\n",
       "  'text': 'teraźniejsze piosenki już nie mają takiego klimatu... https://t.co/UZBm0n77XT'}]"
      ]
     },
     "execution_count": 63,
     "metadata": {},
     "output_type": "execute_result"
    }
   ],
   "source": [
    "functions.quote_tweets(QUERY, MAX_RESULTS)"
   ]
  },
  {
   "cell_type": "markdown",
   "metadata": {},
   "source": [
    "From list of dictionaries to list of specific variables"
   ]
  },
  {
   "cell_type": "code",
   "execution_count": 64,
   "metadata": {},
   "outputs": [],
   "source": [
    "values_of_usernames = [dict['username'] for dict in functions.quote_tweets(QUERY, MAX_RESULTS)]\n",
    "values_of_ids = [dict['id'] for dict in functions.quote_tweets(QUERY, MAX_RESULTS)]\n",
    "values_of_text = [dict['text'] for dict in functions.quote_tweets(QUERY, MAX_RESULTS)]"
   ]
  },
  {
   "cell_type": "markdown",
   "metadata": {},
   "source": [
    "If someone share a tweet containing the phrase \"ola draw lyrics\", bot create new tweet with the user's mention. <br>\n",
    "If someone quotes a tweet, bot retweet it."
   ]
  },
  {
   "cell_type": "code",
   "execution_count": 70,
   "metadata": {},
   "outputs": [],
   "source": [
    "lines = []\n",
    "for i in range(len(values_of_ids)):\n",
    "    if check(str(values_of_ids[i])) == False:\n",
    "        if values_of_usernames[i] != \"olalyricsbot\":\n",
    "            if \"ola draw lyrics\" in values_of_text[i] and check(str(values_of_ids[i])) == False:\n",
    "                reply = \"hello @\" + values_of_usernames[i] + \"\\n\" + \"\\n\" + tweet_content(lyrics = raw_lyrics())\n",
    "                api.like(values_of_ids[i])\n",
    "                api.create_tweet(text=reply)\n",
    "                append_new_id(str(values_of_ids[i]))\n",
    "            else:\n",
    "                api.like(values_of_ids[i])\n",
    "                api.retweet(values_of_ids[i])\n",
    "                append_new_id(str(values_of_ids[i]))   \n",
    "        else: pass\n",
    "    else: pass"
   ]
  }
 ],
 "metadata": {
  "interpreter": {
   "hash": "e7c9f80f3618f45ecfef668bfa3a583f5bb597334d77308f2cc3491cc6d9e9d8"
  },
  "kernelspec": {
   "display_name": "Python 3.9.7 64-bit ('base': conda)",
   "language": "python",
   "name": "python3"
  },
  "language_info": {
   "codemirror_mode": {
    "name": "ipython",
    "version": 3
   },
   "file_extension": ".py",
   "mimetype": "text/x-python",
   "name": "python",
   "nbconvert_exporter": "python",
   "pygments_lexer": "ipython3",
   "version": "3.9.7"
  },
  "orig_nbformat": 4
 },
 "nbformat": 4,
 "nbformat_minor": 2
}
