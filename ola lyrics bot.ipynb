{
 "cells": [
  {
   "cell_type": "markdown",
   "metadata": {},
   "source": [
    "### Connect with Spotify to download songs from my own playlist\n",
    "\n",
    "Import necessary libraries"
   ]
  },
  {
   "cell_type": "code",
   "execution_count": 1,
   "metadata": {},
   "outputs": [],
   "source": [
    "import spotipy\n",
    "import spotipy.oauth2 as oauth2\n",
    "from spotipy.oauth2 import SpotifyOAuth\n",
    "from spotipy.oauth2 import SpotifyClientCredentials\n",
    "import pandas as pd\n",
    "import time"
   ]
  },
  {
   "cell_type": "markdown",
   "metadata": {},
   "source": [
    "Spotify API Authorization"
   ]
  },
  {
   "cell_type": "code",
   "execution_count": 2,
   "metadata": {},
   "outputs": [],
   "source": [
    "auth_manager = SpotifyClientCredentials(client_id= 'ed0cdc0e68494bedb39eb9bafc9e6018', client_secret= '939026d328d94412a28b80841b5b1655')\n",
    "sp = spotipy.Spotify(auth_manager=auth_manager)\n",
    "\n",
    "USERNAME = 'aleksandra.jedrych'\n",
    "PLAYLIST_ID = '2VQxlEsq39DGjFxJ0o5nMo'"
   ]
  },
  {
   "cell_type": "markdown",
   "metadata": {},
   "source": [
    "Download song's ids"
   ]
  },
  {
   "cell_type": "code",
   "execution_count": 3,
   "metadata": {},
   "outputs": [
    {
     "name": "stdout",
     "output_type": "stream",
     "text": [
      "['37ZJ0p5Jm13JPevGcx4SkF', '0GONea6G2XdnHWjNZd6zt3', '6Qyc6fS4DsZjB2mRW9DsQs', '7Ewz6bJ97vUqk5HdkvguFQ', '5t5rCnsgRBtcKqTB7SbD1Q', '3ovjw5HZZv43SxTwApooCM', '1pTGc8pwyo6xtgXBKCBcFn', '77NNZQSqzLNqh2A9JhLRkg', '5kK1Iru9ogP3Iy1zsANU1n', '5B8N5rPOmTVVGpuBMK2Vby', '60wwxj6Dd9NJlirf84wr2c', '390AWnOn2rfe9FzQjYmxIH', '6noSuYjYAXxM91DEaTAaFy', '2a3U3GTCvrcma7wetBtOpi', '1uzWOoJdADfstQuFtQFTUn', '3MrWxJaD2AT0W9DjWF64Vm', '7fpBtc7p3hFrEbDVc32ltY', '3EPXxR3ImUwfayaurPi3cm', '6N22FZs2ZhPBYi3b9XPajV', '6c9nkeetGbsoXa7d5E1wHa', '2EiGECydkS2M8OCcRHQZhT', '0eZBeB2xFIS65jQHerispi', '54b8qPFqYqIndfdxiLApea', '1PZDyestTVydtHpaIcfUJg', '22wWxHGHRH8gZXNDXRgSqY', '7lPN2DXiMsVn7XUKtOW1CS', '4uGIJG1jYFonGc4LGp5uQL', '4vpeKl0vMGdAXpZiQB2Dtd', '39q7xibBdRboeMKUbZEB6g', '6xB7E0HOWznwiO0v56mqwD', '2qhASBzpbFhPRtrnZ5lLnz', '1zf8Xmj66XRiI6Etw2Ddu7', '0GD6Ug6ouPqkthlnT058aC', '6fqLce5TNAmNgbFwXD2DdG', '0I3cUqffwmH2mMUHIfpC0l', '5XcZRgJv3zMhTqCyESjQrF', '0bLRXQaWzmSXRXPmP6JnEF', '5lRzWDEe7UuedU2QPsFg0K', '0ow5yxh0ouMJ0om8EyEt8P', '6EkQmHBoux7iqK4vjfHq4V', '3HNTLCpAGnizbyJmk7466r', '1jbnDCA8DHKCoCRLqtoc3d', '0wzABO1igQsSy8cQ7dIeHK', '5tewIdMVsaJWN19ZnmnPNN', '5Ee3eEEutXbUsMYGD2rbTT', '1cApo5IeHOea0dD3Cs3QMB', '7bOYOD0d7ByMTXvJnQVl8d', '4DMKwE2E2iYDKY01C335Uw', '0YoAVHXeEPPzZxK0xPQqYn', '5JQaG1VrTu4fbieUsDUdrt', '4qO03RMQm88DdpTJcxlglY', '2BK4Vuf2WpjgiKMtLMb4U7', '3uUuGVFu1V7jTQL60S1r8z', '1Hq0iDb1rLvsGSI2cKcRNu', '3kme5Qos8h04yrKxsgur79', '0oUbxgJDJKwmfVYUsn4Qkk', '7oHymG8r14Iv9zn5hFTNax', '5xQkkHYbgJ2VegCrRUCvcS', '3iMLRCGHLQ135LtMjKLkO8', '2TeLIzFBe3hxkPR5FIQZut', '3ddxe0WYUpNPtSnHgQOad5', '4HbeGjbt7u3pvwDk1vN7P0', '2AHnmlkyZbnxqSA66B7jK3', '5g3ZD7PmrEQlQZKDW91yGG', '0vWUhCPxpJOJR5urYbZypB', '3YRCqOhFifThpSRFJ1VWFM', '0gplL1WMoJ6iYaPgMCL0gX', '1mXVgsBdtIVeCLJnSnmtdV', '64GRDrL1efgXclrhVCeuA0', '1CRtJS94Hq3PbBZT9LuF90', '40IHflbrHcOuC8ZcYxUSAC', '0iVXKGnD23wIulXZRit20N', '07q0QVgO56EorrSGHC48y3', '3mCeeoBvTTpg8Xy2Wuvirw', '0RdUX4WE0fO30VnlUbDVL6', '1znPMY3zq78mVuTAmOA9O7', '68G4daLishzu61bgUjk7IT', '4JBNKQg27FoumUSo96r2pk', '3JvKfv6T31zO0ini8iNItO', '7yq4Qj7cqayVTp3FF9CWbm', '44AyOl4qVkzS48vBsbNXaC', '2PwXOevGUSkU8qaYZjgLq2', '37Q5anxoGWYdRsyeXkkNoI', '21IhKvPNPb2VkTACCpAD4j', '6epXs8efGlsdbMIfX8Olra', '6zarrzp1jfmjAI2ASMJwug', '4KPNijGmawDWXPET92mXWp', '7nVDEJhjyrgngD1DQ0dy8J', '1z3ugFmUKoCzGsI6jdY4Ci', '2WfaOiMkCvy7F5fcp2zZ8L', '4ByEFOBuLXpCqvO1kw8Wdm', '07ABETRdek3ACMpRPvQuaT', '1F43XlPBiwAUUIhrUGzylO', '2374M0fQpWi3dLnB54qaLX', '78TnMTAFmWUWWCgNXR7D3K', '3X7uFMzJrEE0sxn62qd8Ch', '3MrRksHupTVEQ7YbA0FsZK', '2TxCwUlqaOH3TIyJqGgR91', '22sLuJYcvZOSoLLRYev1s5', '1ZPlNanZsJSPK5h9YZZFbZ']\n"
     ]
    }
   ],
   "source": [
    "def download_song_ids(username, playlist_id):\n",
    "    song_ids = []\n",
    "    playlist = sp.user_playlist(username, playlist_id)\n",
    "    for item in playlist['tracks']['items']:\n",
    "        song = item['track']\n",
    "        song_ids.append(song['id'])\n",
    "    return song_ids\n",
    "\n",
    "songs_ids = download_song_ids(USERNAME, PLAYLIST_ID)\n",
    "print(songs_ids)\n"
   ]
  },
  {
   "cell_type": "markdown",
   "metadata": {},
   "source": [
    "Download info about songs"
   ]
  },
  {
   "cell_type": "code",
   "execution_count": 5,
   "metadata": {},
   "outputs": [],
   "source": [
    "def download_song_info(id):\n",
    "    song_info = sp.track(id)\n",
    "    title = song_info['name']\n",
    "    artist = song_info['album']['artists'][0]['name']\n",
    "    song_data = [title, artist]\n",
    "    return song_data"
   ]
  },
  {
   "cell_type": "code",
   "execution_count": 6,
   "metadata": {},
   "outputs": [
    {
     "data": {
      "text/html": [
       "<div>\n",
       "<style scoped>\n",
       "    .dataframe tbody tr th:only-of-type {\n",
       "        vertical-align: middle;\n",
       "    }\n",
       "\n",
       "    .dataframe tbody tr th {\n",
       "        vertical-align: top;\n",
       "    }\n",
       "\n",
       "    .dataframe thead th {\n",
       "        text-align: right;\n",
       "    }\n",
       "</style>\n",
       "<table border=\"1\" class=\"dataframe\">\n",
       "  <thead>\n",
       "    <tr style=\"text-align: right;\">\n",
       "      <th></th>\n",
       "      <th>Title</th>\n",
       "      <th>Artist</th>\n",
       "    </tr>\n",
       "  </thead>\n",
       "  <tbody>\n",
       "    <tr>\n",
       "      <th>0</th>\n",
       "      <td>Livin' On A Prayer</td>\n",
       "      <td>Bon Jovi</td>\n",
       "    </tr>\n",
       "    <tr>\n",
       "      <th>1</th>\n",
       "      <td>Summer Of '69</td>\n",
       "      <td>Bryan Adams</td>\n",
       "    </tr>\n",
       "    <tr>\n",
       "      <th>2</th>\n",
       "      <td>Iris</td>\n",
       "      <td>The Goo Goo Dolls</td>\n",
       "    </tr>\n",
       "    <tr>\n",
       "      <th>3</th>\n",
       "      <td>Heaven</td>\n",
       "      <td>Bryan Adams</td>\n",
       "    </tr>\n",
       "    <tr>\n",
       "      <th>4</th>\n",
       "      <td>High Enough</td>\n",
       "      <td>Damn Yankees</td>\n",
       "    </tr>\n",
       "    <tr>\n",
       "      <th>...</th>\n",
       "      <td>...</td>\n",
       "      <td>...</td>\n",
       "    </tr>\n",
       "    <tr>\n",
       "      <th>95</th>\n",
       "      <td>Nothing's Gonna Stop Us Now</td>\n",
       "      <td>Starship</td>\n",
       "    </tr>\n",
       "    <tr>\n",
       "      <th>96</th>\n",
       "      <td>The Final Countdown</td>\n",
       "      <td>Europe</td>\n",
       "    </tr>\n",
       "    <tr>\n",
       "      <th>97</th>\n",
       "      <td>Mamma Mia</td>\n",
       "      <td>ABBA</td>\n",
       "    </tr>\n",
       "    <tr>\n",
       "      <th>98</th>\n",
       "      <td>Material Girl</td>\n",
       "      <td>Madonna</td>\n",
       "    </tr>\n",
       "    <tr>\n",
       "      <th>99</th>\n",
       "      <td>Like a Virgin</td>\n",
       "      <td>Madonna</td>\n",
       "    </tr>\n",
       "  </tbody>\n",
       "</table>\n",
       "<p>100 rows × 2 columns</p>\n",
       "</div>"
      ],
      "text/plain": [
       "                          Title             Artist\n",
       "0            Livin' On A Prayer           Bon Jovi\n",
       "1                 Summer Of '69        Bryan Adams\n",
       "2                          Iris  The Goo Goo Dolls\n",
       "3                        Heaven        Bryan Adams\n",
       "4                   High Enough       Damn Yankees\n",
       "..                          ...                ...\n",
       "95  Nothing's Gonna Stop Us Now           Starship\n",
       "96          The Final Countdown             Europe\n",
       "97                    Mamma Mia               ABBA\n",
       "98                Material Girl            Madonna\n",
       "99                Like a Virgin            Madonna\n",
       "\n",
       "[100 rows x 2 columns]"
      ]
     },
     "execution_count": 6,
     "metadata": {},
     "output_type": "execute_result"
    }
   ],
   "source": [
    "song_list = []\n",
    "for i in range(len(songs_ids)):\n",
    "    time.sleep(.3)\n",
    "    song_data = download_song_info(songs_ids[i])\n",
    "    song_list.append(song_data)\n",
    "\n",
    "ola_lyrics_bot = pd.DataFrame(song_list, columns = ['Title', 'Artist'])\n",
    "ola_lyrics_bot"
   ]
  },
  {
   "cell_type": "code",
   "execution_count": 47,
   "metadata": {},
   "outputs": [
    {
     "name": "stdout",
     "output_type": "stream",
     "text": [
      "47\n"
     ]
    }
   ],
   "source": [
    "import random\n",
    "number_of_song = random.randrange(len(ola_lyrics_bot))\n",
    "print(number_of_song)"
   ]
  },
  {
   "cell_type": "code",
   "execution_count": 48,
   "metadata": {},
   "outputs": [
    {
     "name": "stdout",
     "output_type": "stream",
     "text": [
      "Carry on Wayward Son\n",
      "Kansas\n"
     ]
    }
   ],
   "source": [
    "random_song_title = ola_lyrics_bot['Title'][number_of_song]\n",
    "random_song_artist = ola_lyrics_bot['Artist'][number_of_song]\n",
    "print(random_song_title)\n",
    "print(random_song_artist)\n"
   ]
  },
  {
   "cell_type": "markdown",
   "metadata": {},
   "source": [
    "### Connect to Genius API and Twitter API to create and post tweet with song lyrics\n",
    "\n",
    "Import necessary libraries"
   ]
  },
  {
   "cell_type": "code",
   "execution_count": 10,
   "metadata": {},
   "outputs": [],
   "source": [
    "import lyricsgenius\n",
    "import tweepy"
   ]
  },
  {
   "cell_type": "markdown",
   "metadata": {},
   "source": [
    "Genius API"
   ]
  },
  {
   "cell_type": "code",
   "execution_count": 11,
   "metadata": {},
   "outputs": [],
   "source": [
    "genius = lyricsgenius.Genius(\"HVfOOn22FdB99zvKk4hrQcU7ITuUpl1sE-_4IGb4gkLs9XhohVJl5_8KZ_Gn9ka5\")\n",
    "genius.remove_section_headers = True"
   ]
  },
  {
   "cell_type": "markdown",
   "metadata": {},
   "source": [
    "Download song lyrics"
   ]
  },
  {
   "cell_type": "code",
   "execution_count": 50,
   "metadata": {},
   "outputs": [],
   "source": [
    "def raw_lyrics():\n",
    "    lyrics = genius.search_song(random_song_title, random_song_artist).lyrics\n",
    "    return lyrics"
   ]
  },
  {
   "cell_type": "markdown",
   "metadata": {},
   "source": [
    "Create content of the tweet"
   ]
  },
  {
   "cell_type": "code",
   "execution_count": 51,
   "metadata": {},
   "outputs": [],
   "source": [
    "def tweet_content(lyrics):\n",
    "    lyrics = lyrics.split('\\n')\n",
    "    for index in range(len(lyrics)):\n",
    "        if lyrics[index] == \"\" or \"[\" in lyrics[index]:\n",
    "            lyrics[index] = \"XXX\"\n",
    "    lyrics = [i for i in lyrics if i != \"XXX\"]\n",
    "\n",
    "    random_num = random.randrange(0, len(lyrics)-1)\n",
    "    tweet = lyrics[random_num] + \"\\n\" + lyrics[random_num+1] + \"\\n\" + \"\\n\" + random_song_title + \" by \" + random_song_artist\n",
    "    tweet = tweet.replace(\"\\\\\", \"\")\n",
    "    return tweet"
   ]
  },
  {
   "cell_type": "code",
   "execution_count": 33,
   "metadata": {},
   "outputs": [
    {
     "name": "stdout",
     "output_type": "stream",
     "text": [
      "Searching for \"I Still Have Faith In You\" by ABBA...\n",
      "Done.\n"
     ]
    },
    {
     "data": {
      "text/plain": [
       "'In the memories we share\\nI still have faith in you\\n\\nI Still Have Faith In You by ABBA'"
      ]
     },
     "execution_count": 33,
     "metadata": {},
     "output_type": "execute_result"
    }
   ],
   "source": [
    "#tweet_content(lyrics=raw_lyrics())"
   ]
  },
  {
   "cell_type": "markdown",
   "metadata": {},
   "source": [
    "Post Tweet on Twitter @olalyricsbot"
   ]
  },
  {
   "cell_type": "code",
   "execution_count": 53,
   "metadata": {},
   "outputs": [
    {
     "name": "stdout",
     "output_type": "stream",
     "text": [
      "Searching for \"Carry on Wayward Son\" by Kansas...\n",
      "Done.\n"
     ]
    },
    {
     "data": {
      "text/plain": [
       "Response(data={'id': '1471441203157778433', 'text': 'Just to get a glimpse beyond this illusion\\nI was soaring ever higher\\n\\nCarry on Wayward Son by Kansas'}, includes={}, errors=[], meta={})"
      ]
     },
     "execution_count": 53,
     "metadata": {},
     "output_type": "execute_result"
    }
   ],
   "source": [
    "api = tweepy.Client(bearer_token='AAAAAAAAAAAAAAAAAAAAAIXiWwEAAAAARnVrhn%2BfQdf%2F8Kg6vN0atqqlbIA%3DKJprO3K6ng51KE7tAGw7MvMehtDFaS0WbJqECvl5L50V4SEYPH', consumer_key= 'KBXCi5ivSHsIShpQXJpAYWaFt', consumer_secret='CG2gUjRMNcAEbCz10UzKjyU91KPZ7wMILyQIN7r7pLeghkRbK8', access_token='1470047706697641986-L3SSTvUikQGEl5tJTuxTFGNJ63oTp2', access_token_secret='s6vWKSMCEGxdja2wsIIm0vIimpy0dV5NzL7rLLNmGCz85' )\n",
    "api.create_tweet(text=tweet_content(lyrics=raw_lyrics()))\n"
   ]
  }
 ],
 "metadata": {
  "interpreter": {
   "hash": "e7c9f80f3618f45ecfef668bfa3a583f5bb597334d77308f2cc3491cc6d9e9d8"
  },
  "kernelspec": {
   "display_name": "Python 3.9.7 64-bit ('base': conda)",
   "language": "python",
   "name": "python3"
  },
  "language_info": {
   "codemirror_mode": {
    "name": "ipython",
    "version": 3
   },
   "file_extension": ".py",
   "mimetype": "text/x-python",
   "name": "python",
   "nbconvert_exporter": "python",
   "pygments_lexer": "ipython3",
   "version": "3.9.7"
  },
  "orig_nbformat": 4
 },
 "nbformat": 4,
 "nbformat_minor": 2
}
