{
 "cells": [
  {
   "cell_type": "code",
   "execution_count": 3,
   "metadata": {},
   "outputs": [],
   "source": [
    "import spotipy\n",
    "import spotipy.oauth2 as oauth2\n",
    "from spotipy.oauth2 import SpotifyOAuth\n",
    "from spotipy.oauth2 import SpotifyClientCredentials\n",
    "import pandas as pd\n",
    "import time"
   ]
  },
  {
   "cell_type": "code",
   "execution_count": 4,
   "metadata": {},
   "outputs": [],
   "source": [
    "auth_manager = SpotifyClientCredentials(client_id= 'ed0cdc0e68494bedb39eb9bafc9e6018', client_secret= '939026d328d94412a28b80841b5b1655')\n",
    "sp = spotipy.Spotify(auth_manager=auth_manager)"
   ]
  },
  {
   "cell_type": "code",
   "execution_count": 5,
   "metadata": {},
   "outputs": [],
   "source": [
    "def getTrackIDs(user, playlist_id):\n",
    "    track_ids = []\n",
    "    playlist = sp.user_playlist(user, playlist_id)\n",
    "    for item in playlist['tracks']['items']:\n",
    "        track = item['track']\n",
    "        track_ids.append(track['id'])\n",
    "    return track_ids"
   ]
  },
  {
   "cell_type": "code",
   "execution_count": 6,
   "metadata": {},
   "outputs": [
    {
     "name": "stdout",
     "output_type": "stream",
     "text": [
      "100\n",
      "['37ZJ0p5Jm13JPevGcx4SkF', '0GONea6G2XdnHWjNZd6zt3', '6Qyc6fS4DsZjB2mRW9DsQs', '7Ewz6bJ97vUqk5HdkvguFQ', '5t5rCnsgRBtcKqTB7SbD1Q', '3ovjw5HZZv43SxTwApooCM', '1pTGc8pwyo6xtgXBKCBcFn', '77NNZQSqzLNqh2A9JhLRkg', '5kK1Iru9ogP3Iy1zsANU1n', '5B8N5rPOmTVVGpuBMK2Vby', '60wwxj6Dd9NJlirf84wr2c', '390AWnOn2rfe9FzQjYmxIH', '6noSuYjYAXxM91DEaTAaFy', '2a3U3GTCvrcma7wetBtOpi', '1uzWOoJdADfstQuFtQFTUn', '3MrWxJaD2AT0W9DjWF64Vm', '7fpBtc7p3hFrEbDVc32ltY', '3EPXxR3ImUwfayaurPi3cm', '6N22FZs2ZhPBYi3b9XPajV', '6c9nkeetGbsoXa7d5E1wHa', '2EiGECydkS2M8OCcRHQZhT', '0eZBeB2xFIS65jQHerispi', '54b8qPFqYqIndfdxiLApea', '1PZDyestTVydtHpaIcfUJg', '22wWxHGHRH8gZXNDXRgSqY', '7lPN2DXiMsVn7XUKtOW1CS', '4uGIJG1jYFonGc4LGp5uQL', '4vpeKl0vMGdAXpZiQB2Dtd', '39q7xibBdRboeMKUbZEB6g', '6xB7E0HOWznwiO0v56mqwD', '2qhASBzpbFhPRtrnZ5lLnz', '1zf8Xmj66XRiI6Etw2Ddu7', '0GD6Ug6ouPqkthlnT058aC', '6fqLce5TNAmNgbFwXD2DdG', '0I3cUqffwmH2mMUHIfpC0l', '5XcZRgJv3zMhTqCyESjQrF', '0bLRXQaWzmSXRXPmP6JnEF', '5lRzWDEe7UuedU2QPsFg0K', '0ow5yxh0ouMJ0om8EyEt8P', '6EkQmHBoux7iqK4vjfHq4V', '3HNTLCpAGnizbyJmk7466r', '1jbnDCA8DHKCoCRLqtoc3d', '0wzABO1igQsSy8cQ7dIeHK', '5tewIdMVsaJWN19ZnmnPNN', '5Ee3eEEutXbUsMYGD2rbTT', '1cApo5IeHOea0dD3Cs3QMB', '7bOYOD0d7ByMTXvJnQVl8d', '4DMKwE2E2iYDKY01C335Uw', '0YoAVHXeEPPzZxK0xPQqYn', '5JQaG1VrTu4fbieUsDUdrt', '4qO03RMQm88DdpTJcxlglY', '2BK4Vuf2WpjgiKMtLMb4U7', '3uUuGVFu1V7jTQL60S1r8z', '1Hq0iDb1rLvsGSI2cKcRNu', '3kme5Qos8h04yrKxsgur79', '0oUbxgJDJKwmfVYUsn4Qkk', '7oHymG8r14Iv9zn5hFTNax', '5xQkkHYbgJ2VegCrRUCvcS', '3iMLRCGHLQ135LtMjKLkO8', '2TeLIzFBe3hxkPR5FIQZut', '3ddxe0WYUpNPtSnHgQOad5', '4HbeGjbt7u3pvwDk1vN7P0', '2AHnmlkyZbnxqSA66B7jK3', '5g3ZD7PmrEQlQZKDW91yGG', '0vWUhCPxpJOJR5urYbZypB', '3YRCqOhFifThpSRFJ1VWFM', '0gplL1WMoJ6iYaPgMCL0gX', '1mXVgsBdtIVeCLJnSnmtdV', '64GRDrL1efgXclrhVCeuA0', '1CRtJS94Hq3PbBZT9LuF90', '40IHflbrHcOuC8ZcYxUSAC', '0iVXKGnD23wIulXZRit20N', '07q0QVgO56EorrSGHC48y3', '3mCeeoBvTTpg8Xy2Wuvirw', '0RdUX4WE0fO30VnlUbDVL6', '1znPMY3zq78mVuTAmOA9O7', '68G4daLishzu61bgUjk7IT', '4JBNKQg27FoumUSo96r2pk', '3JvKfv6T31zO0ini8iNItO', '7yq4Qj7cqayVTp3FF9CWbm', '44AyOl4qVkzS48vBsbNXaC', '2PwXOevGUSkU8qaYZjgLq2', '37Q5anxoGWYdRsyeXkkNoI', '21IhKvPNPb2VkTACCpAD4j', '6epXs8efGlsdbMIfX8Olra', '6zarrzp1jfmjAI2ASMJwug', '4KPNijGmawDWXPET92mXWp', '7nVDEJhjyrgngD1DQ0dy8J', '1z3ugFmUKoCzGsI6jdY4Ci', '2WfaOiMkCvy7F5fcp2zZ8L', '4ByEFOBuLXpCqvO1kw8Wdm', '07ABETRdek3ACMpRPvQuaT', '1F43XlPBiwAUUIhrUGzylO', '2374M0fQpWi3dLnB54qaLX', '78TnMTAFmWUWWCgNXR7D3K', '3X7uFMzJrEE0sxn62qd8Ch', '3MrRksHupTVEQ7YbA0FsZK', '2TxCwUlqaOH3TIyJqGgR91', '22sLuJYcvZOSoLLRYev1s5', '1ZPlNanZsJSPK5h9YZZFbZ']\n"
     ]
    }
   ],
   "source": [
    "track_ids = getTrackIDs('aleksandra.jedrych', '2VQxlEsq39DGjFxJ0o5nMo?si=e0e02b5204af4737')\n",
    "print(len(track_ids))\n",
    "print(track_ids)"
   ]
  },
  {
   "cell_type": "code",
   "execution_count": 7,
   "metadata": {},
   "outputs": [],
   "source": [
    "def getTrackFeatures(id):\n",
    "    track_info = sp.track(id)\n",
    "\n",
    "#Track info\n",
    "    name = track_info['name']\n",
    "    album = track_info['album']['name']\n",
    "    artist = track_info['album']['artists'][0]['name']\n",
    "\n",
    "    track_data = [name, album , artist]\n",
    "    return track_data"
   ]
  },
  {
   "cell_type": "code",
   "execution_count": 8,
   "metadata": {},
   "outputs": [
    {
     "data": {
      "text/html": [
       "<div>\n",
       "<style scoped>\n",
       "    .dataframe tbody tr th:only-of-type {\n",
       "        vertical-align: middle;\n",
       "    }\n",
       "\n",
       "    .dataframe tbody tr th {\n",
       "        vertical-align: top;\n",
       "    }\n",
       "\n",
       "    .dataframe thead th {\n",
       "        text-align: right;\n",
       "    }\n",
       "</style>\n",
       "<table border=\"1\" class=\"dataframe\">\n",
       "  <thead>\n",
       "    <tr style=\"text-align: right;\">\n",
       "      <th></th>\n",
       "      <th>Name</th>\n",
       "      <th>Album</th>\n",
       "      <th>Artist</th>\n",
       "    </tr>\n",
       "  </thead>\n",
       "  <tbody>\n",
       "    <tr>\n",
       "      <th>0</th>\n",
       "      <td>Livin' On A Prayer</td>\n",
       "      <td>Slippery When Wet</td>\n",
       "      <td>Bon Jovi</td>\n",
       "    </tr>\n",
       "    <tr>\n",
       "      <th>1</th>\n",
       "      <td>Summer Of '69</td>\n",
       "      <td>Reckless (30th Anniversary / Deluxe Edition)</td>\n",
       "      <td>Bryan Adams</td>\n",
       "    </tr>\n",
       "    <tr>\n",
       "      <th>2</th>\n",
       "      <td>Iris</td>\n",
       "      <td>Dizzy up the Girl</td>\n",
       "      <td>The Goo Goo Dolls</td>\n",
       "    </tr>\n",
       "    <tr>\n",
       "      <th>3</th>\n",
       "      <td>Heaven</td>\n",
       "      <td>Reckless (30th Anniversary / Deluxe Edition)</td>\n",
       "      <td>Bryan Adams</td>\n",
       "    </tr>\n",
       "    <tr>\n",
       "      <th>4</th>\n",
       "      <td>High Enough</td>\n",
       "      <td>Damn Yankees</td>\n",
       "      <td>Damn Yankees</td>\n",
       "    </tr>\n",
       "    <tr>\n",
       "      <th>...</th>\n",
       "      <td>...</td>\n",
       "      <td>...</td>\n",
       "      <td>...</td>\n",
       "    </tr>\n",
       "    <tr>\n",
       "      <th>95</th>\n",
       "      <td>Nothing's Gonna Stop Us Now</td>\n",
       "      <td>No Protection</td>\n",
       "      <td>Starship</td>\n",
       "    </tr>\n",
       "    <tr>\n",
       "      <th>96</th>\n",
       "      <td>The Final Countdown</td>\n",
       "      <td>The Final Countdown (Expanded Edition)</td>\n",
       "      <td>Europe</td>\n",
       "    </tr>\n",
       "    <tr>\n",
       "      <th>97</th>\n",
       "      <td>Mamma Mia</td>\n",
       "      <td>Abba</td>\n",
       "      <td>ABBA</td>\n",
       "    </tr>\n",
       "    <tr>\n",
       "      <th>98</th>\n",
       "      <td>Material Girl</td>\n",
       "      <td>Celebration (double disc version)</td>\n",
       "      <td>Madonna</td>\n",
       "    </tr>\n",
       "    <tr>\n",
       "      <th>99</th>\n",
       "      <td>Like a Virgin</td>\n",
       "      <td>Like a Virgin (Reissue)</td>\n",
       "      <td>Madonna</td>\n",
       "    </tr>\n",
       "  </tbody>\n",
       "</table>\n",
       "<p>100 rows × 3 columns</p>\n",
       "</div>"
      ],
      "text/plain": [
       "                           Name                                         Album  \\\n",
       "0            Livin' On A Prayer                             Slippery When Wet   \n",
       "1                 Summer Of '69  Reckless (30th Anniversary / Deluxe Edition)   \n",
       "2                          Iris                             Dizzy up the Girl   \n",
       "3                        Heaven  Reckless (30th Anniversary / Deluxe Edition)   \n",
       "4                   High Enough                                  Damn Yankees   \n",
       "..                          ...                                           ...   \n",
       "95  Nothing's Gonna Stop Us Now                                 No Protection   \n",
       "96          The Final Countdown        The Final Countdown (Expanded Edition)   \n",
       "97                    Mamma Mia                                          Abba   \n",
       "98                Material Girl             Celebration (double disc version)   \n",
       "99                Like a Virgin                       Like a Virgin (Reissue)   \n",
       "\n",
       "               Artist  \n",
       "0            Bon Jovi  \n",
       "1         Bryan Adams  \n",
       "2   The Goo Goo Dolls  \n",
       "3         Bryan Adams  \n",
       "4        Damn Yankees  \n",
       "..                ...  \n",
       "95           Starship  \n",
       "96             Europe  \n",
       "97               ABBA  \n",
       "98            Madonna  \n",
       "99            Madonna  \n",
       "\n",
       "[100 rows x 3 columns]"
      ]
     },
     "execution_count": 8,
     "metadata": {},
     "output_type": "execute_result"
    }
   ],
   "source": [
    "track_list = []\n",
    "\n",
    "for i in range(len(track_ids)):\n",
    "    time.sleep(.3)\n",
    "    track_data = getTrackFeatures(track_ids[i])\n",
    "    track_list.append(track_data)\n",
    "\n",
    "ola_lyrics_bot = pd.DataFrame(track_list, columns = ['Name', 'Album', 'Artist'])\n",
    "ola_lyrics_bot"
   ]
  }
 ],
 "metadata": {
  "interpreter": {
   "hash": "e7c9f80f3618f45ecfef668bfa3a583f5bb597334d77308f2cc3491cc6d9e9d8"
  },
  "kernelspec": {
   "display_name": "Python 3.9.7 64-bit ('base': conda)",
   "language": "python",
   "name": "python3"
  },
  "language_info": {
   "codemirror_mode": {
    "name": "ipython",
    "version": 3
   },
   "file_extension": ".py",
   "mimetype": "text/x-python",
   "name": "python",
   "nbconvert_exporter": "python",
   "pygments_lexer": "ipython3",
   "version": "3.9.7"
  },
  "orig_nbformat": 4
 },
 "nbformat": 4,
 "nbformat_minor": 2
}
