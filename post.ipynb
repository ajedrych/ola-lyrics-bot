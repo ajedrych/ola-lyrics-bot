{
 "cells": [
  {
   "cell_type": "code",
   "execution_count": 2,
   "metadata": {},
   "outputs": [],
   "source": [
    "import lyricsgenius\n",
    "import random\n",
    "import tweepy\n",
    "import time"
   ]
  },
  {
   "cell_type": "code",
   "execution_count": 31,
   "metadata": {},
   "outputs": [],
   "source": [
    "keys = {\n",
    "    'CONSUMER_API_KEY': 'tVJVTD39NNTfRQuy0vm6Ffvy0',\n",
    "    'CONSUMER_API_SECRET_KEY': 'prAyXJanUFZHjFcBudTfQPtu6S2NgRJMYouZS13hq0LshRRjot',\n",
    "    'ACCESS_TOKEN': '1470047706697641986-FqiKEnOXcaGPjVxQN5ITGLc8yuUI23',\n",
    "    'ACCESS_TOKEN_SECRET': 'qMq2yfGC6AMhppKSJUKoOA3l9Vv66lpZA255ED71C4X1H'\n",
    "}"
   ]
  },
  {
   "cell_type": "code",
   "execution_count": 30,
   "metadata": {},
   "outputs": [],
   "source": [
    "genius = lyricsgenius.Genius(\"HVfOOn22FdB99zvKk4hrQcU7ITuUpl1sE-_4IGb4gkLs9XhohVJl5_8KZ_Gn9ka5\")\n",
    "genius.remove_section_headers = True"
   ]
  },
  {
   "cell_type": "code",
   "execution_count": 21,
   "metadata": {},
   "outputs": [],
   "source": [
    "def get_raw_lyrics():\n",
    "    genius_client_access_token = \"HVfOOn22FdB99zvKk4hrQcU7ITuUpl1sE-_4IGb4gkLs9XhohVJl5_8KZ_Gn9ka5\"\n",
    "    genius = lyricsgenius.Genius(genius_client_access_token)\n",
    "    random_song_title = random.choice(['Snowman', 'Broken Glass'])\n",
    "    lyrics = genius.search_song(random_song_title, \"Sia\").lyrics\n",
    "    #song = random_song_title.upper()\n",
    "    return lyrics#, song"
   ]
  },
  {
   "cell_type": "code",
   "execution_count": 22,
   "metadata": {},
   "outputs": [
    {
     "name": "stdout",
     "output_type": "stream",
     "text": [
      "Searching for \"Snowman\" by Sia...\n",
      "Done.\n"
     ]
    },
    {
     "data": {
      "text/plain": [
       "\"[Verse 1]\\nDon't cry, snowman, not in front of me\\nWho'll catch your tears if you can't catch me, darling?\\nIf you can't catch me, darling\\nDon't cry snowman, don't leave me this way\\nA puddle of water can't hold me close, baby\\nCan't hold me close, baby\\n\\n[Chorus]\\nI want you to know that I'm never leaving\\n'Cause I'm Mrs. Snow, 'til death we'll be freezing\\nYeah, you are my home, my home for all seasons\\nSo come on, let's go\\nLet's go below zero and hide from the sun\\nI'll love you forever where we'll have some fun\\nYes, let's hit the North Pole and live happily\\nPlease don't cry no tears now\\nIt's Christmas, baby\\n\\n[Post-Chorus]\\nMy snowman and me, eh\\nMy snowman and me\\nBaby\\n\\n[Verse 2]\\nDon't cry, snowman, don't you fear the sun\\nWho'll carry me without legs to run, honey?\\nWithout legs to run, honey\\nDon't cry, snowman, don't you shed a tear\\nWho'll hear my secrets if you don't have ears, baby?\\nIf you don't have ears, baby\\n[Chorus]\\nI want you to know that I'm never leaving\\n'Cause I'm Mrs. Snow, 'til death we'll be freezing\\nYeah, you are my home, my home for all seasons\\nSo come on, let's go\\nLet's go below zero and hide from the sun\\nI'll love you forever where we'll have some fun\\nYes, let's hit the North Pole and live happily\\nPlease don't cry no tears now\\nIt's Christmas, baby\\n\\n[Post-Chorus]\\nMy snowman and me\\nMy snowman and me\\nBaby47EmbedShare URLCopyEmbedCopy\""
      ]
     },
     "execution_count": 22,
     "metadata": {},
     "output_type": "execute_result"
    }
   ],
   "source": [
    "get_raw_lyrics()"
   ]
  },
  {
   "cell_type": "code",
   "execution_count": 26,
   "metadata": {},
   "outputs": [],
   "source": [
    "def get_tweet_from(lyrics):\n",
    "    lines = lyrics.split('\\n')\n",
    "    for index in range(len(lines)):\n",
    "        if lines[index] == \"\" or \"[\" in lines[index]:\n",
    "            lines[index] = \"XXX\"\n",
    "    lines = [i for i in lines if i != \"XXX\"]\n",
    "\n",
    "    random_num = random.randrange(0, len(lines)-1)\n",
    "    tweet = lines[random_num] + \"\\n\" + lines[random_num+1]\n",
    "    tweet = tweet.replace(\"\\\\\", \"\")\n",
    "    return tweet"
   ]
  },
  {
   "cell_type": "code",
   "execution_count": 27,
   "metadata": {},
   "outputs": [
    {
     "name": "stdout",
     "output_type": "stream",
     "text": [
      "Searching for \"Snowman\" by Sia...\n",
      "Done.\n"
     ]
    },
    {
     "data": {
      "text/plain": [
       "\"I want you to know that I'm never leaving\\n'Cause I'm Mrs. Snow, 'til death we'll be freezing\""
      ]
     },
     "execution_count": 27,
     "metadata": {},
     "output_type": "execute_result"
    }
   ],
   "source": [
    "get_tweet_from(lyrics=get_raw_lyrics())"
   ]
  },
  {
   "cell_type": "code",
   "execution_count": 28,
   "metadata": {},
   "outputs": [],
   "source": [
    "def handler(event, context):\n",
    "    auth = tweepy.OAuthHandler(\n",
    "        keys['CONSUMER_API_KEY'],\n",
    "        keys['CONSUMER_API_SECRET_KEY']\n",
    "    )\n",
    "    auth.set_access_token(\n",
    "        keys['ACCESS_TOKEN'],\n",
    "        keys['ACCESS_TOKEN_SECRET']\n",
    "    )\n",
    "    api = tweepy.API(auth)\n",
    "    lyrics, song = get_raw_lyrics()\n",
    "    tweet = get_tweet_from(lyrics)\n",
    "    status = api.update_status(tweet)\n",
    "    bio = api.update_profile(description=song)\n",
    "\n",
    "    return tweet"
   ]
  },
  {
   "cell_type": "code",
   "execution_count": 38,
   "metadata": {},
   "outputs": [],
   "source": [
    "auth = tweepy.OAuthHandler(\n",
    "    keys['CONSUMER_API_KEY'],\n",
    "    keys['CONSUMER_API_SECRET_KEY']\n",
    ")\n",
    "\n",
    "auth.set_access_token(\n",
    "    keys['ACCESS_TOKEN'],\n",
    "    keys['ACCESS_TOKEN_SECRET']\n",
    ")\n",
    "\n",
    "api = tweepy.API(auth)"
   ]
  },
  {
   "cell_type": "code",
   "execution_count": 3,
   "metadata": {},
   "outputs": [
    {
     "data": {
      "text/plain": [
       "Response(data={'id': '1470860137640480775', 'text': 'I want to Post 3 Photos and description'}, includes={}, errors=[], meta={})"
      ]
     },
     "execution_count": 3,
     "metadata": {},
     "output_type": "execute_result"
    }
   ],
   "source": [
    "api = tweepy.Client(bearer_token='AAAAAAAAAAAAAAAAAAAAAIXiWwEAAAAARnVrhn%2BfQdf%2F8Kg6vN0atqqlbIA%3DKJprO3K6ng51KE7tAGw7MvMehtDFaS0WbJqECvl5L50V4SEYPH', consumer_key= 'KBXCi5ivSHsIShpQXJpAYWaFt', consumer_secret='CG2gUjRMNcAEbCz10UzKjyU91KPZ7wMILyQIN7r7pLeghkRbK8', access_token='1470047706697641986-L3SSTvUikQGEl5tJTuxTFGNJ63oTp2', access_token_secret='s6vWKSMCEGxdja2wsIIm0vIimpy0dV5NzL7rLLNmGCz85' )\n",
    "text_message = \"ola\"\n",
    "api.create_tweet(text='I want to Post 3 Photos and description')"
   ]
  },
  {
   "cell_type": "code",
   "execution_count": 16,
   "metadata": {},
   "outputs": [
    {
     "ename": "Forbidden",
     "evalue": "403 Forbidden\n453 - You currently have Essential access which includes access to Twitter API v2 endpoints only. If you need access to this endpoint, you’ll need to apply for Elevated access via the Developer Portal. You can learn more here: https://developer.twitter.com/en/docs/twitter-api/getting-started/about-twitter-api#v2-access-leve",
     "output_type": "error",
     "traceback": [
      "\u001b[1;31m---------------------------------------------------------------------------\u001b[0m",
      "\u001b[1;31mForbidden\u001b[0m                                 Traceback (most recent call last)",
      "\u001b[1;32m<ipython-input-16-9514d5b16701>\u001b[0m in \u001b[0;36m<module>\u001b[1;34m\u001b[0m\n\u001b[0;32m      2\u001b[0m \u001b[0mauth\u001b[0m\u001b[1;33m.\u001b[0m\u001b[0mset_access_token\u001b[0m\u001b[1;33m(\u001b[0m\u001b[1;34m'1470047706697641986-L3SSTvUikQGEl5tJTuxTFGNJ63oTp2'\u001b[0m\u001b[1;33m,\u001b[0m \u001b[1;34m's6vWKSMCEGxdja2wsIIm0vIimpy0dV5NzL7rLLNmGCz85'\u001b[0m\u001b[1;33m)\u001b[0m\u001b[1;33m\u001b[0m\u001b[1;33m\u001b[0m\u001b[0m\n\u001b[0;32m      3\u001b[0m \u001b[0mapi\u001b[0m \u001b[1;33m=\u001b[0m \u001b[0mtweepy\u001b[0m\u001b[1;33m.\u001b[0m\u001b[0mAPI\u001b[0m\u001b[1;33m(\u001b[0m\u001b[0mauth\u001b[0m\u001b[1;33m)\u001b[0m\u001b[1;33m\u001b[0m\u001b[1;33m\u001b[0m\u001b[0m\n\u001b[1;32m----> 4\u001b[1;33m \u001b[0mnew_tweet\u001b[0m \u001b[1;33m=\u001b[0m \u001b[0mapi\u001b[0m\u001b[1;33m.\u001b[0m\u001b[0mupdate_status\u001b[0m\u001b[1;33m(\u001b[0m\u001b[0mstatus\u001b[0m \u001b[1;33m=\u001b[0m \u001b[1;34m'First tweet from #python !'\u001b[0m\u001b[1;33m)\u001b[0m \u001b[1;31m#post a tweet\u001b[0m\u001b[1;33m\u001b[0m\u001b[1;33m\u001b[0m\u001b[0m\n\u001b[0m",
      "\u001b[1;32m~\\anaconda3\\lib\\site-packages\\tweepy\\api.py\u001b[0m in \u001b[0;36mwrapper\u001b[1;34m(*args, **kwargs)\u001b[0m\n\u001b[0;32m     44\u001b[0m             \u001b[0mkwargs\u001b[0m\u001b[1;33m[\u001b[0m\u001b[1;34m'payload_list'\u001b[0m\u001b[1;33m]\u001b[0m \u001b[1;33m=\u001b[0m \u001b[0mpayload_list\u001b[0m\u001b[1;33m\u001b[0m\u001b[1;33m\u001b[0m\u001b[0m\n\u001b[0;32m     45\u001b[0m             \u001b[0mkwargs\u001b[0m\u001b[1;33m[\u001b[0m\u001b[1;34m'payload_type'\u001b[0m\u001b[1;33m]\u001b[0m \u001b[1;33m=\u001b[0m \u001b[0mpayload_type\u001b[0m\u001b[1;33m\u001b[0m\u001b[1;33m\u001b[0m\u001b[0m\n\u001b[1;32m---> 46\u001b[1;33m             \u001b[1;32mreturn\u001b[0m \u001b[0mmethod\u001b[0m\u001b[1;33m(\u001b[0m\u001b[1;33m*\u001b[0m\u001b[0margs\u001b[0m\u001b[1;33m,\u001b[0m \u001b[1;33m**\u001b[0m\u001b[0mkwargs\u001b[0m\u001b[1;33m)\u001b[0m\u001b[1;33m\u001b[0m\u001b[1;33m\u001b[0m\u001b[0m\n\u001b[0m\u001b[0;32m     47\u001b[0m         \u001b[0mwrapper\u001b[0m\u001b[1;33m.\u001b[0m\u001b[0mpayload_list\u001b[0m \u001b[1;33m=\u001b[0m \u001b[0mpayload_list\u001b[0m\u001b[1;33m\u001b[0m\u001b[1;33m\u001b[0m\u001b[0m\n\u001b[0;32m     48\u001b[0m         \u001b[0mwrapper\u001b[0m\u001b[1;33m.\u001b[0m\u001b[0mpayload_type\u001b[0m \u001b[1;33m=\u001b[0m \u001b[0mpayload_type\u001b[0m\u001b[1;33m\u001b[0m\u001b[1;33m\u001b[0m\u001b[0m\n",
      "\u001b[1;32m~\\anaconda3\\lib\\site-packages\\tweepy\\api.py\u001b[0m in \u001b[0;36mupdate_status\u001b[1;34m(self, status, **kwargs)\u001b[0m\n\u001b[0;32m   1119\u001b[0m             \u001b[0mkwargs\u001b[0m\u001b[1;33m[\u001b[0m\u001b[1;34m'media_ids'\u001b[0m\u001b[1;33m]\u001b[0m \u001b[1;33m=\u001b[0m \u001b[0mlist_to_csv\u001b[0m\u001b[1;33m(\u001b[0m\u001b[0mkwargs\u001b[0m\u001b[1;33m[\u001b[0m\u001b[1;34m'media_ids'\u001b[0m\u001b[1;33m]\u001b[0m\u001b[1;33m)\u001b[0m\u001b[1;33m\u001b[0m\u001b[1;33m\u001b[0m\u001b[0m\n\u001b[0;32m   1120\u001b[0m \u001b[1;33m\u001b[0m\u001b[0m\n\u001b[1;32m-> 1121\u001b[1;33m         return self.request(\n\u001b[0m\u001b[0;32m   1122\u001b[0m             'POST', 'statuses/update', endpoint_parameters=(\n\u001b[0;32m   1123\u001b[0m                 \u001b[1;34m'status'\u001b[0m\u001b[1;33m,\u001b[0m \u001b[1;34m'in_reply_to_status_id'\u001b[0m\u001b[1;33m,\u001b[0m\u001b[1;33m\u001b[0m\u001b[1;33m\u001b[0m\u001b[0m\n",
      "\u001b[1;32m~\\anaconda3\\lib\\site-packages\\tweepy\\api.py\u001b[0m in \u001b[0;36mrequest\u001b[1;34m(self, method, endpoint, endpoint_parameters, params, headers, json_payload, parser, payload_list, payload_type, post_data, files, require_auth, return_cursors, upload_api, use_cache, **kwargs)\u001b[0m\n\u001b[0;32m    257\u001b[0m                 \u001b[1;32mraise\u001b[0m \u001b[0mUnauthorized\u001b[0m\u001b[1;33m(\u001b[0m\u001b[0mresp\u001b[0m\u001b[1;33m)\u001b[0m\u001b[1;33m\u001b[0m\u001b[1;33m\u001b[0m\u001b[0m\n\u001b[0;32m    258\u001b[0m             \u001b[1;32mif\u001b[0m \u001b[0mresp\u001b[0m\u001b[1;33m.\u001b[0m\u001b[0mstatus_code\u001b[0m \u001b[1;33m==\u001b[0m \u001b[1;36m403\u001b[0m\u001b[1;33m:\u001b[0m\u001b[1;33m\u001b[0m\u001b[1;33m\u001b[0m\u001b[0m\n\u001b[1;32m--> 259\u001b[1;33m                 \u001b[1;32mraise\u001b[0m \u001b[0mForbidden\u001b[0m\u001b[1;33m(\u001b[0m\u001b[0mresp\u001b[0m\u001b[1;33m)\u001b[0m\u001b[1;33m\u001b[0m\u001b[1;33m\u001b[0m\u001b[0m\n\u001b[0m\u001b[0;32m    260\u001b[0m             \u001b[1;32mif\u001b[0m \u001b[0mresp\u001b[0m\u001b[1;33m.\u001b[0m\u001b[0mstatus_code\u001b[0m \u001b[1;33m==\u001b[0m \u001b[1;36m404\u001b[0m\u001b[1;33m:\u001b[0m\u001b[1;33m\u001b[0m\u001b[1;33m\u001b[0m\u001b[0m\n\u001b[0;32m    261\u001b[0m                 \u001b[1;32mraise\u001b[0m \u001b[0mNotFound\u001b[0m\u001b[1;33m(\u001b[0m\u001b[0mresp\u001b[0m\u001b[1;33m)\u001b[0m\u001b[1;33m\u001b[0m\u001b[1;33m\u001b[0m\u001b[0m\n",
      "\u001b[1;31mForbidden\u001b[0m: 403 Forbidden\n453 - You currently have Essential access which includes access to Twitter API v2 endpoints only. If you need access to this endpoint, you’ll need to apply for Elevated access via the Developer Portal. You can learn more here: https://developer.twitter.com/en/docs/twitter-api/getting-started/about-twitter-api#v2-access-leve"
     ]
    }
   ],
   "source": [
    "auth = tweepy.OAuthHandler('KBXCi5ivSHsIShpQXJpAYWaFt', 'CG2gUjRMNcAEbCz10UzKjyU91KPZ7wMILyQIN7r7pLeghkRbK8')\n",
    "auth.set_access_token('1470047706697641986-L3SSTvUikQGEl5tJTuxTFGNJ63oTp2', 's6vWKSMCEGxdja2wsIIm0vIimpy0dV5NzL7rLLNmGCz85')\n",
    "api = tweepy.API(auth)\n",
    "new_tweet = api.update_status(status = 'First tweet from #python !') #post a tweet"
   ]
  }
 ],
 "metadata": {
  "interpreter": {
   "hash": "e7c9f80f3618f45ecfef668bfa3a583f5bb597334d77308f2cc3491cc6d9e9d8"
  },
  "kernelspec": {
   "display_name": "Python 3.9.7 64-bit ('base': conda)",
   "language": "python",
   "name": "python3"
  },
  "language_info": {
   "codemirror_mode": {
    "name": "ipython",
    "version": 3
   },
   "file_extension": ".py",
   "mimetype": "text/x-python",
   "name": "python",
   "nbconvert_exporter": "python",
   "pygments_lexer": "ipython3",
   "version": "3.9.7"
  },
  "orig_nbformat": 4
 },
 "nbformat": 4,
 "nbformat_minor": 2
}
