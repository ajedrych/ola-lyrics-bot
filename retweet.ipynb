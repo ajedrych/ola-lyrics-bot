{
 "cells": [
  {
   "cell_type": "code",
   "execution_count": 143,
   "metadata": {},
   "outputs": [],
   "source": [
    "import tweepy\n",
    "from dotenv import load_dotenv"
   ]
  },
  {
   "cell_type": "code",
   "execution_count": 144,
   "metadata": {},
   "outputs": [],
   "source": [
    "load_dotenv()\n",
    "api = tweepy.Client(bearer_token=os.getenv(\"BEARER_TOKEN\"), consumer_key= os.getenv(\"CONSUMER_KEY\"), consumer_secret=os.getenv(\"CONSUMER_SECRET\"), access_token=os.getenv(\"ACCESS_TOKEN\"), access_token_secret=os.getenv(\"ACCESS_TOKEN_SECRET\") )"
   ]
  },
  {
   "cell_type": "code",
   "execution_count": 145,
   "metadata": {},
   "outputs": [],
   "source": [
    "QUERY = \"olalyricsbot\"\n",
    "MAX_RESULTS = 10"
   ]
  },
  {
   "cell_type": "code",
   "execution_count": 146,
   "metadata": {},
   "outputs": [],
   "source": [
    "def get_tweet(id):\n",
    "    tweet = api.get_tweet(id, expansions=['author_id'], user_fields=['username'])\n",
    "    return tweet"
   ]
  },
  {
   "cell_type": "code",
   "execution_count": 147,
   "metadata": {},
   "outputs": [],
   "source": [
    "def search_tweets(query, max_results):\n",
    "    tweets = api.search_recent_tweets(query=query, max_results=max_results)\n",
    "    results = []\n",
    "    if not tweets.data is None and len(tweets.data) > 0:\n",
    "        for tweet in tweets.data:\n",
    "            twt = get_tweet(tweet['id'])\n",
    "            obj = {}\n",
    "            obj['id'] = tweet.id\n",
    "            obj['username'] = twt.includes['users'][0].username\n",
    "            obj['text'] = tweet.text\n",
    "            results.append(obj)\n",
    "    return results"
   ]
  },
  {
   "cell_type": "code",
   "execution_count": 148,
   "metadata": {},
   "outputs": [
    {
     "data": {
      "text/plain": [
       "[{'id': 1474801365247537168,\n",
       "  'username': 'olalyricsbot',\n",
       "  'text': 'RT @langerspearl: teraźniejsze piosenki już nie mają takiego klimatu...'},\n",
       " {'id': 1474784541571227650,\n",
       "  'username': 'langerspearl',\n",
       "  'text': 'teraźniejsze piosenki już nie mają takiego klimatu... https://t.co/UZBm0n77XT'},\n",
       " {'id': 1472338642546966528,\n",
       "  'username': 'langerspearl',\n",
       "  'text': 'najpiękniejsza piosenka o miłości https://t.co/UoDTEd0IIc'}]"
      ]
     },
     "execution_count": 148,
     "metadata": {},
     "output_type": "execute_result"
    }
   ],
   "source": [
    "search_tweets(QUERY, MAX_RESULTS)"
   ]
  },
  {
   "cell_type": "code",
   "execution_count": 149,
   "metadata": {},
   "outputs": [],
   "source": [
    "values_of_usernames = [dict['username'] for dict in search_tweets(QUERY, MAX_RESULTS)]\n",
    "values_of_ids = [dict['id'] for dict in search_tweets(QUERY, MAX_RESULTS)]\n",
    "\n",
    "for i in range(len(values_of_usernames)):\n",
    "    if values_of_usernames[i] == 'olalyricsbot':\n",
    "        for j in range(0, i):\n",
    "            print(values_of_usernames[j])\n",
    "            api.retweet(values_of_ids[j])\n"
   ]
  }
 ],
 "metadata": {
  "interpreter": {
   "hash": "e7c9f80f3618f45ecfef668bfa3a583f5bb597334d77308f2cc3491cc6d9e9d8"
  },
  "kernelspec": {
   "display_name": "Python 3.9.7 64-bit ('base': conda)",
   "language": "python",
   "name": "python3"
  },
  "language_info": {
   "codemirror_mode": {
    "name": "ipython",
    "version": 3
   },
   "file_extension": ".py",
   "mimetype": "text/x-python",
   "name": "python",
   "nbconvert_exporter": "python",
   "pygments_lexer": "ipython3",
   "version": "3.9.7"
  },
  "orig_nbformat": 4
 },
 "nbformat": 4,
 "nbformat_minor": 2
}
