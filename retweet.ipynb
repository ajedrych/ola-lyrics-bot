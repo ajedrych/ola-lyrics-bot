{
 "cells": [
  {
   "cell_type": "markdown",
   "metadata": {},
   "source": [
    "## ola lyrics bot\n",
    "#### Retweet \n",
    "Connect to Spotify and Genius to post lyrics on [Twitter](https://twitter.com/olalyricsbot)"
   ]
  },
  {
   "cell_type": "code",
   "execution_count": 142,
   "metadata": {},
   "outputs": [],
   "source": [
    "import tweepy\n",
    "import os\n",
    "from dotenv import load_dotenv\n",
    "import functions\n",
    "\n",
    "load_dotenv()\n",
    "api = tweepy.Client(bearer_token=os.getenv(\"BEARER_TOKEN\"), consumer_key= os.getenv(\"CONSUMER_KEY\"), consumer_secret=os.getenv(\"CONSUMER_SECRET\"), access_token=os.getenv(\"ACCESS_TOKEN\"), access_token_secret=os.getenv(\"ACCESS_TOKEN_SECRET\") )\n"
   ]
  },
  {
   "cell_type": "code",
   "execution_count": 143,
   "metadata": {},
   "outputs": [],
   "source": [
    "QUERY = \"olalyricsbot\"\n",
    "MAX_RESULTS = 10"
   ]
  },
  {
   "cell_type": "code",
   "execution_count": 144,
   "metadata": {},
   "outputs": [
    {
     "data": {
      "text/plain": [
       "[{'id': 1474887503152877570,\n",
       "  'username': 'howareyouscully',\n",
       "  'text': '@olalyricsbot hejka ola draw lyrics'},\n",
       " {'id': 1474874021682495489,\n",
       "  'username': 'olalyricsbot',\n",
       "  'text': 'RT @langerspearl: najpiękniejsza piosenka o miłości'},\n",
       " {'id': 1474864114434551810,\n",
       "  'username': 'olalyricsbot',\n",
       "  'text': \"RT @langerspearl: don't want to touch you but you're under my skin (deep in) https://t.co/98Gry9ESDJ\"},\n",
       " {'id': 1474850453284429824,\n",
       "  'username': 'langerspearl',\n",
       "  'text': \"don't want to touch you but you're under my skin (deep in) https://t.co/98Gry9ESDJ\"},\n",
       " {'id': 1474801365247537168,\n",
       "  'username': 'olalyricsbot',\n",
       "  'text': 'RT @langerspearl: teraźniejsze piosenki już nie mają takiego klimatu...'},\n",
       " {'id': 1474784541571227650,\n",
       "  'username': 'langerspearl',\n",
       "  'text': 'teraźniejsze piosenki już nie mają takiego klimatu... https://t.co/UZBm0n77XT'}]"
      ]
     },
     "execution_count": 144,
     "metadata": {},
     "output_type": "execute_result"
    }
   ],
   "source": [
    "functions.quote_tweets(QUERY, MAX_RESULTS)"
   ]
  },
  {
   "cell_type": "code",
   "execution_count": 146,
   "metadata": {},
   "outputs": [],
   "source": [
    "def check(id):\n",
    "    with open('last_tweet_ids.txt') as f:\n",
    "        datafile = f.readlines()\n",
    "    found = False  # This isn't really necessary\n",
    "    for line in datafile:\n",
    "        if id in line:\n",
    "            return True\n",
    "    return False  # Because you finished the search without finding"
   ]
  },
  {
   "cell_type": "code",
   "execution_count": 147,
   "metadata": {},
   "outputs": [],
   "source": [
    "def add_id_to_file(id):\n",
    "    with open('last_tweet_ids.txt', 'w') as f:\n",
    "        f.write('\\n'.join(id))"
   ]
  },
  {
   "cell_type": "code",
   "execution_count": 148,
   "metadata": {},
   "outputs": [],
   "source": [
    "values_of_usernames = [dict['username'] for dict in functions.quote_tweets(QUERY, MAX_RESULTS)]\n",
    "values_of_ids = [dict['id'] for dict in functions.quote_tweets(QUERY, MAX_RESULTS)]\n",
    "values_of_text = [dict['text'] for dict in functions.quote_tweets(QUERY, MAX_RESULTS)]"
   ]
  },
  {
   "cell_type": "code",
   "execution_count": 141,
   "metadata": {},
   "outputs": [],
   "source": [
    "for i in range(len(values_of_ids)):\n",
    "    if check(values_of_ids[i] == False):\n",
    "        if values_of_usernames[i] != \"olalyricsbot\":\n",
    "            if \"ola draw lyrics\" in values_of_text[i]:\n",
    "                reply = \"hello @\" + values_of_usernames[j] + \"\\n\" + \"\\n\" + tweet_content(lyrics = raw_lyrics())\n",
    "                api.like(values_of_ids[i])\n",
    "                api.create_tweet(text=reply)\n",
    "                print(values_of_ids[i], values_of_text[i], values_of_text[i])\n",
    "                add_id_to_file(values_of_ids[i])\n",
    "            else:\n",
    "                api.like(values_of_ids[i])\n",
    "                api.retweet(values_of_ids[i])\n",
    "                print(values_of_ids[i], values_of_text[i], values_of_text[i])\n",
    "                add_id_to_file(values_of_ids[i])    \n",
    "        else: pass\n",
    "    else: pass"
   ]
  },
  {
   "cell_type": "code",
   "execution_count": null,
   "metadata": {},
   "outputs": [],
   "source": [
    "values_of_usernames = [dict['username'] for dict in functions.quote_tweets(QUERY, MAX_RESULTS)]\n",
    "values_of_ids = [dict['id'] for dict in functions.quote_tweets(QUERY, MAX_RESULTS)]\n",
    "values_of_text = [dict['text'] for dict in functions.quote_tweets(QUERY, MAX_RESULTS)]\n",
    "\n",
    "#database_of_tweets = []\n",
    "for i in range(len(values_of_usernames)):\n",
    "    if values_of_usernames[i] != 'olalyricsbot' or check_if_id_is_in_file(i) == 0:\n",
    "        print(values_of_usernames[i])\n",
    "        for j in range(0, i):\n",
    "            print(values_of_usernames[j])\n",
    "            if 'ola draw lyrics' not in values_of_text[j]:\n",
    "                add_id_to_file(values_of_ids[i])\n",
    "                #database_of_tweets.append(values_of_ids[j])\n",
    "                #api.like(values_of_ids[j])\n",
    "                #api.retweet(values_of_ids[j])\n",
    "            else:\n",
    "                database_of_tweets.append(values_of_ids[j])\n",
    "                reply = \"hello @\" + values_of_usernames[j] + \"\\n\" + \"\\n\" + tweet_content(lyrics = raw_lyrics())\n",
    "                #api.like(values_of_ids[j])\n",
    "                #api.create_tweet(text=reply)\n",
    "\n",
    "print(database_of_tweets)\n",
    "                "
   ]
  },
  {
   "cell_type": "code",
   "execution_count": 112,
   "metadata": {},
   "outputs": [],
   "source": [
    "values_of_usernames = [dict['username'] for dict in quote_tweets(QUERY, MAX_RESULTS)]\n",
    "values_of_ids = [dict['id'] for dict in functionsquote_tweets(QUERY, MAX_RESULTS)]\n",
    "\n",
    "for i in range(len(values_of_usernames)):\n",
    "    if values_of_usernames[i] == 'olalyricsbot':\n",
    "        for j in range(0, i):\n",
    "            print(values_of_usernames[j])\n",
    "            api.retweet(values_of_ids[j])\n",
    "            api.like(values_of_ids[j])"
   ]
  },
  {
   "cell_type": "code",
   "execution_count": null,
   "metadata": {},
   "outputs": [],
   "source": [
    "values_of_usernames = [dict['username'] for dict in quote_tweets(QUERY, MAX_RESULTS)]\n",
    "values_of_ids = [dict['id'] for dict in quote_tweets(QUERY, MAX_RESULTS)]\n",
    "values_of_text = [dict['text'] for dict in quote_tweets(QUERY, MAX_RESULTS)]\n",
    "\n",
    "for i in range(len(values_of_usernames)):\n",
    "    if values_of_usernames[i] == 'olalyricsbot':\n",
    "        for j in range(0, i):\n",
    "            print(values_of_usernames[j])\n",
    "            if 'ola draw lyrics' not in values_of_text[j]:\n",
    "                api.retweet(values_of_ids[j])\n",
    "                api.like(values_of_ids[j])\n",
    "            else: "
   ]
  }
 ],
 "metadata": {
  "interpreter": {
   "hash": "e7c9f80f3618f45ecfef668bfa3a583f5bb597334d77308f2cc3491cc6d9e9d8"
  },
  "kernelspec": {
   "display_name": "Python 3.9.7 64-bit ('base': conda)",
   "language": "python",
   "name": "python3"
  },
  "language_info": {
   "codemirror_mode": {
    "name": "ipython",
    "version": 3
   },
   "file_extension": ".py",
   "mimetype": "text/x-python",
   "name": "python",
   "nbconvert_exporter": "python",
   "pygments_lexer": "ipython3",
   "version": "3.9.7"
  },
  "orig_nbformat": 4
 },
 "nbformat": 4,
 "nbformat_minor": 2
}
